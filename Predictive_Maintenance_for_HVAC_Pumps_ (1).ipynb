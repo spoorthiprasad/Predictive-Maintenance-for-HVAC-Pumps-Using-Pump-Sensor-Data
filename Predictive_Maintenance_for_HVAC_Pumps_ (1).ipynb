{
  "nbformat": 4,
  "nbformat_minor": 0,
  "metadata": {
    "colab": {
      "provenance": []
    },
    "kernelspec": {
      "name": "python3",
      "display_name": "Python 3"
    },
    "language_info": {
      "name": "python"
    }
  },
  "cells": [
    {
      "cell_type": "markdown",
      "source": [
        "Importing the neccessary Libraries"
      ],
      "metadata": {
        "id": "DWAIJ637Yz_A"
      }
    },
    {
      "cell_type": "code",
      "execution_count": null,
      "metadata": {
        "id": "PLx_4CXsS9bx"
      },
      "outputs": [],
      "source": [
        "import pandas as pd\n",
        "import numpy as np\n",
        "import matplotlib.pyplot as plt\n",
        "import seaborn as sns\n",
        "\n",
        "from sklearn.preprocessing import LabelEncoder\n",
        "from sklearn.preprocessing import StandardScaler\n",
        "from sklearn.model_selection import train_test_split,GridSearchCV,cross_val_score\n",
        "from sklearn.metrics import accuracy_score,precision_score,recall_score,f1_score,confusion_matrix,classification_report,roc_curve,roc_auc_score\n",
        "from sklearn.ensemble import AdaBoostClassifier\n",
        "\n",
        "from sklearn.linear_model import LogisticRegression\n",
        "from sklearn.neighbors import KNeighborsClassifier\n",
        "from sklearn.tree import DecisionTreeClassifier\n",
        "from sklearn import tree\n",
        "from sklearn.ensemble import RandomForestClassifier,GradientBoostingClassifier\n",
        "from sklearn.svm import SVC\n",
        "\n",
        "!pip install xgboost\n",
        "from xgboost import XGBClassifier\n",
        "\n",
        "plt.rcParams['figure.figsize']=(15,10)\n",
        "plt.rcParams['figure.dpi']=300\n",
        "%matplotlib inline\n",
        "\n",
        "import warnings\n",
        "warnings.filterwarnings(\"ignore\")"
      ]
    },
    {
      "cell_type": "code",
      "source": [
        "# Load The DataSet\n",
        "df=pd.read_csv(\"/content/sensor.csv\")\n",
        "df"
      ],
      "metadata": {
        "id": "1LVS2R2JUTgW"
      },
      "execution_count": null,
      "outputs": []
    },
    {
      "cell_type": "code",
      "source": [
        "df.describe()"
      ],
      "metadata": {
        "id": "CEH4e3U4UVsw"
      },
      "execution_count": null,
      "outputs": []
    },
    {
      "cell_type": "code",
      "source": [
        "df.describe(include=object)"
      ],
      "metadata": {
        "id": "zKmKklhhVTBg"
      },
      "execution_count": null,
      "outputs": []
    },
    {
      "cell_type": "code",
      "source": [
        "df.info()"
      ],
      "metadata": {
        "id": "DZSsIDWOVY8P"
      },
      "execution_count": null,
      "outputs": []
    },
    {
      "cell_type": "code",
      "source": [
        "df.columns"
      ],
      "metadata": {
        "id": "m4jSoVK7Vzkb"
      },
      "execution_count": null,
      "outputs": []
    },
    {
      "cell_type": "code",
      "source": [
        "df.drop(\"Unnamed: 0\",inplace=True,axis=1)\n"
      ],
      "metadata": {
        "id": "Ym3_X3k1V6_m"
      },
      "execution_count": null,
      "outputs": []
    },
    {
      "cell_type": "code",
      "source": [
        "df['timestamp'] = pd.to_datetime(df['timestamp'])"
      ],
      "metadata": {
        "id": "EnEFyej5WdTF"
      },
      "execution_count": null,
      "outputs": []
    },
    {
      "cell_type": "code",
      "source": [
        "df"
      ],
      "metadata": {
        "id": "7_ykcZ5CWIc6"
      },
      "execution_count": null,
      "outputs": []
    },
    {
      "cell_type": "code",
      "source": [
        "df.dtypes"
      ],
      "metadata": {
        "id": "kTb618hIWjA7"
      },
      "execution_count": null,
      "outputs": []
    },
    {
      "cell_type": "code",
      "source": [
        "df.duplicated().sum()"
      ],
      "metadata": {
        "id": "c3kcHwmYWray"
      },
      "execution_count": null,
      "outputs": []
    },
    {
      "cell_type": "code",
      "source": [
        "df.isnull().sum()"
      ],
      "metadata": {
        "id": "7aO-iil0YaYj"
      },
      "execution_count": null,
      "outputs": []
    },
    {
      "cell_type": "markdown",
      "source": [
        "The column \"sensor_15\" has only null values so we dropped tye column\n"
      ],
      "metadata": {
        "id": "GRQdHtvedXuj"
      }
    },
    {
      "cell_type": "code",
      "source": [
        "df.drop(\"sensor_15\",inplace=True, axis=1)"
      ],
      "metadata": {
        "id": "qCUW242BdWz-"
      },
      "execution_count": null,
      "outputs": []
    },
    {
      "cell_type": "code",
      "source": [
        "sns.heatmap(df.isnull(),cmap=\"viridis\")\n",
        "plt.tight_layout()"
      ],
      "metadata": {
        "id": "t4E9lou2dRH-"
      },
      "execution_count": null,
      "outputs": []
    },
    {
      "cell_type": "markdown",
      "source": [
        "in the dataset most of the columns contains missing values\n",
        "\n",
        "to replace the missing values check for outliers\n",
        "\n",
        "Since the columns are numerical\n",
        "\n",
        "if outliers are present replace the missing values with the median\n",
        "otherwise replace the missing values with the mean"
      ],
      "metadata": {
        "id": "Ph29XLydeRVe"
      }
    },
    {
      "cell_type": "code",
      "source": [
        "sns.boxplot(df,palette=\"rainbow\")\n",
        "plt.tight_layout()"
      ],
      "metadata": {
        "id": "JJ_Lu3EVeZ_x"
      },
      "execution_count": null,
      "outputs": []
    },
    {
      "cell_type": "code",
      "source": [
        "df.hist()\n",
        "plt.tight_layout()"
      ],
      "metadata": {
        "id": "uusRkoitfpfd"
      },
      "execution_count": null,
      "outputs": []
    },
    {
      "cell_type": "code",
      "source": [
        "for i in df.isna().sum():\n",
        "  print(i/len(df)*100)"
      ],
      "metadata": {
        "id": "MiuWxH_2f9OQ"
      },
      "execution_count": null,
      "outputs": []
    },
    {
      "cell_type": "code",
      "source": [
        "# prompt: replace missing values with the median for all numerical columns\n",
        "\n",
        "for col in df.select_dtypes(include=np.number).columns:\n",
        "    if df[col].isnull().any():\n",
        "        df[col].fillna(df[col].median(), inplace=True)\n"
      ],
      "metadata": {
        "id": "zYqBn9hlgRuL"
      },
      "execution_count": null,
      "outputs": []
    },
    {
      "cell_type": "code",
      "source": [
        " df.isnull().sum()"
      ],
      "metadata": {
        "id": "ZGl3Q79hgMyq"
      },
      "execution_count": null,
      "outputs": []
    },
    {
      "cell_type": "markdown",
      "source": [
        "There are 3 categorical columns in the Data set, Convert them into numerical"
      ],
      "metadata": {
        "id": "VDhxzVqpgzHy"
      }
    },
    {
      "cell_type": "code",
      "source": [
        "df[\"machine_status\"].value_counts()"
      ],
      "metadata": {
        "id": "2L3Pvp-5gtIK"
      },
      "execution_count": null,
      "outputs": []
    },
    {
      "cell_type": "code",
      "source": [
        "le=LabelEncoder()\n",
        "df[\"machine_status\"]=le.fit_transform(df[\"machine_status\"])"
      ],
      "metadata": {
        "id": "_2nMwUMOhso2"
      },
      "execution_count": null,
      "outputs": []
    },
    {
      "cell_type": "code",
      "source": [
        "df[\"machine_status\"].value_counts()"
      ],
      "metadata": {
        "id": "TZr8rg_3hZrK"
      },
      "execution_count": null,
      "outputs": []
    },
    {
      "cell_type": "code",
      "source": [
        "sns.boxplot(df,palette=\"rainbow\")\n",
        "plt.tight_layout()"
      ],
      "metadata": {
        "id": "iKX4bucWi8tR"
      },
      "execution_count": null,
      "outputs": []
    },
    {
      "cell_type": "markdown",
      "source": [
        "# to treat the outliers\n",
        "capping replacing outlier values is called capping\n",
        "In capping all outlier values will be replaced by upper extreame or lower extreame\n",
        "Outlier detection : user defined function to calculate upper extreame and lower extreame"
      ],
      "metadata": {
        "id": "K37sK6pujVEw"
      }
    },
    {
      "cell_type": "code",
      "source": [
        "\n",
        "\n",
        "def calculate_extremes(df):\n",
        "    for col in df.select_dtypes(include=np.number).columns:\n",
        "        q1 = df[col].quantile(0.25)\n",
        "        q2 = df[col].quantile(0.5)  # Quartile 2 (Median)\n",
        "        q3 = df[col].quantile(0.75)\n",
        "        iqr = q3 - q1\n",
        "        upper_extreame = q3 + (1.5 * iqr)\n",
        "        lower_extreame = q1 - (1.5 * iqr)\n",
        "\n",
        "        print(f\"Column: {col}\")\n",
        "        print(f\"Quartile 1 (Q1): {q1}\")\n",
        "        print(f\"Quartile 2 (Q2/Median): {q2}\")\n",
        "        print(f\"Interquartile Range (IQR): {iqr}\")\n",
        "        print(f\"Upper Extreme: {upper_extreame}\")\n",
        "        print(f\"Lower Extreme: {lower_extreame}\")\n",
        "        print(\"-\" * 20)\n",
        "\n",
        "calculate_extremes(df)\n"
      ],
      "metadata": {
        "id": "oDaX6CemkJ7a"
      },
      "execution_count": null,
      "outputs": []
    },
    {
      "cell_type": "code",
      "source": [
        "\n",
        "def treat_outliers(df):\n",
        "    for col in df.select_dtypes(include=np.number).columns:\n",
        "        if col != 'machine_status':  # Exclude 'machine_status' column\n",
        "            q1 = df[col].quantile(0.25)\n",
        "            q3 = df[col].quantile(0.75)\n",
        "            iqr = q3 - q1\n",
        "            upper_extreme = q3 + (1.5 * iqr)\n",
        "            lower_extreme = q1 - (1.5 * iqr)\n",
        "\n",
        "            df[col] = np.where(df[col] > upper_extreme, upper_extreme, df[col])\n",
        "            df[col] = np.where(df[col] < lower_extreme, lower_extreme, df[col])\n",
        "    return df\n",
        "\n",
        "df = treat_outliers(df)\n"
      ],
      "metadata": {
        "id": "p4aP4NB0j5jB"
      },
      "execution_count": null,
      "outputs": []
    },
    {
      "cell_type": "code",
      "source": [
        "df"
      ],
      "metadata": {
        "id": "wC_IgCItlLwP"
      },
      "execution_count": null,
      "outputs": []
    },
    {
      "cell_type": "code",
      "source": [
        "df.describe()"
      ],
      "metadata": {
        "id": "PvYERGzYlOPv"
      },
      "execution_count": null,
      "outputs": []
    },
    {
      "cell_type": "code",
      "source": [
        "df[\"machine_status\"].value_counts()"
      ],
      "metadata": {
        "id": "rhH7ehW3lYwe"
      },
      "execution_count": null,
      "outputs": []
    },
    {
      "cell_type": "code",
      "source": [
        "sns.countplot(x='machine_status', data=df,palette=\"viridis\")\n",
        "plt.title('Machine Status')\n",
        "plt.ylabel('Count')\n",
        "plt.tight_layout()\n",
        "plt.show()"
      ],
      "metadata": {
        "id": "QlO0w8qrmsHa"
      },
      "execution_count": null,
      "outputs": []
    },
    {
      "cell_type": "code",
      "source": [
        "sns.boxplot(df,palette=\"rainbow\")\n",
        "plt.tight_layout()"
      ],
      "metadata": {
        "id": "giwCPxv3nFDT"
      },
      "execution_count": null,
      "outputs": []
    },
    {
      "cell_type": "code",
      "source": [
        "df.hist(color=\"yellow\",edgecolor=\"black\")\n",
        "plt.tight_layout()"
      ],
      "metadata": {
        "id": "fFTCRaFbnb94"
      },
      "execution_count": null,
      "outputs": []
    },
    {
      "cell_type": "code",
      "source": [
        "\n",
        "\n",
        "# Create the plot.\n",
        "for column in df.columns:\n",
        "    if column != 'machine_status':\n",
        "        plt.figure(figsize=(10, 6))\n",
        "        plt.plot(df.index, df[column], label=column)\n",
        "        plt.xlabel('Time')\n",
        "        plt.ylabel('Sensor Reading')\n",
        "        plt.title(f'Sensor {column} Readings Over Time')\n",
        "        plt.legend()\n",
        "        plt.grid(True)\n",
        "        plt.xticks(rotation=45)\n",
        "        plt.tight_layout()\n",
        "        plt.show()\n"
      ],
      "metadata": {
        "id": "fkcAlcBYtoAF"
      },
      "execution_count": null,
      "outputs": []
    },
    {
      "cell_type": "code",
      "source": [
        "df.corr()"
      ],
      "metadata": {
        "id": "o4B7YHHzuqCP"
      },
      "execution_count": null,
      "outputs": []
    },
    {
      "cell_type": "code",
      "source": [
        "sns.heatmap(df.corr(),annot=True,cmap=\"RdYlGn\")\n",
        "plt.tight_layout()"
      ],
      "metadata": {
        "id": "gwjcfWdivesf"
      },
      "execution_count": null,
      "outputs": []
    },
    {
      "cell_type": "code",
      "source": [
        "x = df.drop([\"machine_status\", \"timestamp\"], axis=1)\n",
        "y = df[\"machine_status\"]"
      ],
      "metadata": {
        "id": "1iT-EgzevmCI"
      },
      "execution_count": null,
      "outputs": []
    },
    {
      "cell_type": "code",
      "source": [
        "x"
      ],
      "metadata": {
        "id": "VpdqBr8GvxP9"
      },
      "execution_count": null,
      "outputs": []
    },
    {
      "cell_type": "code",
      "source": [
        "y"
      ],
      "metadata": {
        "id": "mkyt3kQrvzra"
      },
      "execution_count": null,
      "outputs": []
    },
    {
      "cell_type": "code",
      "source": [
        "\n",
        "sc=StandardScaler()\n",
        "x1=sc.fit_transform(x)"
      ],
      "metadata": {
        "id": "LqvxDCZAzPD6"
      },
      "execution_count": null,
      "outputs": []
    },
    {
      "cell_type": "code",
      "source": [
        "x=pd.DataFrame(x1,columns=x.columns)\n",
        "x"
      ],
      "metadata": {
        "id": "bpatBnP-zwan"
      },
      "execution_count": null,
      "outputs": []
    },
    {
      "cell_type": "code",
      "source": [
        "x.describe()"
      ],
      "metadata": {
        "id": "JaHf7nuLzyz8"
      },
      "execution_count": null,
      "outputs": []
    },
    {
      "cell_type": "markdown",
      "source": [
        "# **Model Building**"
      ],
      "metadata": {
        "id": "P43-Dsqhz9jl"
      }
    },
    {
      "cell_type": "code",
      "source": [
        "# splitting the dataset into training(77%) and testing(33%)data\n",
        "x_train,x_test,y_train,y_test=train_test_split(x,y,test_size=0.33,random_state=42)"
      ],
      "metadata": {
        "id": "x7vzIv6Pz6ij"
      },
      "execution_count": null,
      "outputs": []
    },
    {
      "cell_type": "code",
      "source": [
        "x_train"
      ],
      "metadata": {
        "id": "jlWd_aM90Hgo"
      },
      "execution_count": null,
      "outputs": []
    },
    {
      "cell_type": "code",
      "source": [
        "x_test"
      ],
      "metadata": {
        "id": "ioAtnWuZ0Jiv"
      },
      "execution_count": null,
      "outputs": []
    },
    {
      "cell_type": "code",
      "source": [
        "y_train"
      ],
      "metadata": {
        "id": "B82Gr0Lz0QXE"
      },
      "execution_count": null,
      "outputs": []
    },
    {
      "cell_type": "code",
      "source": [
        "y_test"
      ],
      "metadata": {
        "id": "kgCaI8vR0YfX"
      },
      "execution_count": null,
      "outputs": []
    },
    {
      "cell_type": "markdown",
      "source": [
        "## **1.Logistic Regression**"
      ],
      "metadata": {
        "id": "Fw1V3oFX0diB"
      }
    },
    {
      "cell_type": "code",
      "source": [
        "model1=LogisticRegression()\n",
        "model1.fit(x_train,y_train)"
      ],
      "metadata": {
        "id": "8Cwyba9Y0c1r"
      },
      "execution_count": null,
      "outputs": []
    },
    {
      "cell_type": "code",
      "source": [
        "y_predict1=model1.predict(x_test)\n",
        "y_predict1"
      ],
      "metadata": {
        "id": "H7rGAGuM0pHW"
      },
      "execution_count": null,
      "outputs": []
    },
    {
      "cell_type": "code",
      "source": [
        "df1=pd.DataFrame({\"Actual\":y_test,\"predicted\":y_predict1})\n",
        "df1"
      ],
      "metadata": {
        "id": "H7Nw5pOe0s-5"
      },
      "execution_count": null,
      "outputs": []
    },
    {
      "cell_type": "code",
      "source": [
        "conf_matrix=confusion_matrix(y_test,y_predict1)\n",
        "print(conf_matrix)"
      ],
      "metadata": {
        "id": "07jt2oJH0xib"
      },
      "execution_count": null,
      "outputs": []
    },
    {
      "cell_type": "code",
      "source": [
        "print(\"training accuracy:\", model1.score(x_train,y_train))\n",
        "print(\"testing accuracy:\", model1.score(x_test,y_test))"
      ],
      "metadata": {
        "id": "NAXwtCpw01kC"
      },
      "execution_count": null,
      "outputs": []
    },
    {
      "cell_type": "code",
      "source": [
        "class_report1=classification_report(y_test,y_predict1)\n",
        "print(class_report1)"
      ],
      "metadata": {
        "id": "U9Yt5wnV05HW"
      },
      "execution_count": null,
      "outputs": []
    },
    {
      "cell_type": "markdown",
      "source": [
        "## **2. Decision Tree Classifier**"
      ],
      "metadata": {
        "id": "3Reygctc1vJ4"
      }
    },
    {
      "cell_type": "code",
      "source": [
        "model2=DecisionTreeClassifier()\n",
        "model2.fit(x_train,y_train)"
      ],
      "metadata": {
        "id": "nyx4GFBm1t-m"
      },
      "execution_count": null,
      "outputs": []
    },
    {
      "cell_type": "code",
      "source": [
        "x.columns"
      ],
      "metadata": {
        "id": "qKPT9hI710oq"
      },
      "execution_count": null,
      "outputs": []
    },
    {
      "cell_type": "code",
      "source": [
        "y.unique()"
      ],
      "metadata": {
        "id": "-9b8PJZO15dK"
      },
      "execution_count": null,
      "outputs": []
    },
    {
      "cell_type": "code",
      "source": [
        "fn=x.columns\n",
        "cn=['2','1','0']\n",
        "tree.plot_tree(model2,feature_names=fn,class_names=cn,filled=True)\n",
        "plt.tight_layout()"
      ],
      "metadata": {
        "id": "gpuEEMrT18Wg"
      },
      "execution_count": null,
      "outputs": []
    },
    {
      "cell_type": "code",
      "source": [
        "y_predict2=model2.predict(x_test)\n",
        "y_predict2"
      ],
      "metadata": {
        "id": "uUJEcrEL2PZu"
      },
      "execution_count": null,
      "outputs": []
    },
    {
      "cell_type": "code",
      "source": [
        "\n",
        "y_test.values"
      ],
      "metadata": {
        "id": "yaAd3ujq2SBJ"
      },
      "execution_count": null,
      "outputs": []
    },
    {
      "cell_type": "code",
      "source": [
        "print(\"train_accuracy:\",model2.score(x_train,y_train))\n",
        "print(\"test_accuracy:\",model2.score(x_test,y_test))"
      ],
      "metadata": {
        "id": "J97rWzjt2XKP"
      },
      "execution_count": null,
      "outputs": []
    },
    {
      "cell_type": "code",
      "source": [
        "model2=DecisionTreeClassifier(criterion=\"gini\",max_depth=3,min_samples_split=8,random_state=42)\n",
        "model2.fit(x_train,y_train)"
      ],
      "metadata": {
        "id": "ej-SBcfJ2mLP"
      },
      "execution_count": null,
      "outputs": []
    },
    {
      "cell_type": "code",
      "source": [
        "fn=x.columns\n",
        "cn=['2','1','0']\n",
        "tree.plot_tree(model2,feature_names=fn,class_names=cn,filled=True)\n",
        "plt.tight_layout()"
      ],
      "metadata": {
        "id": "onaeeXaG2nBF"
      },
      "execution_count": null,
      "outputs": []
    },
    {
      "cell_type": "code",
      "source": [
        "y_predict2=model2.predict(x_test)\n",
        "y_predict2"
      ],
      "metadata": {
        "id": "fmJp9MS12slW"
      },
      "execution_count": null,
      "outputs": []
    },
    {
      "cell_type": "code",
      "source": [
        "y_test.values"
      ],
      "metadata": {
        "id": "IJN3Dxoj2vKK"
      },
      "execution_count": null,
      "outputs": []
    },
    {
      "cell_type": "code",
      "source": [
        "print(\"train_accuracy:\",model2.score(x_train,y_train))\n",
        "print(\"test_accuracy:\",model2.score(x_test,y_test))"
      ],
      "metadata": {
        "id": "8Jg1LqgT2xSK"
      },
      "execution_count": null,
      "outputs": []
    },
    {
      "cell_type": "code",
      "source": [
        "class_report2=classification_report(y_test,y_predict2)\n",
        "print(class_report2)"
      ],
      "metadata": {
        "id": "QvE2l5hL2zhB"
      },
      "execution_count": null,
      "outputs": []
    },
    {
      "cell_type": "markdown",
      "source": [
        "## **3. Random forest Classifier**"
      ],
      "metadata": {
        "id": "T3bXZH-f3HQU"
      }
    },
    {
      "cell_type": "code",
      "source": [
        "model3=RandomForestClassifier(random_state=2)\n",
        "model3.fit(x_train,y_train)"
      ],
      "metadata": {
        "id": "6om8B1Ip3Mam"
      },
      "execution_count": null,
      "outputs": []
    },
    {
      "cell_type": "code",
      "source": [
        "y_predict3=model3.predict(x_test)\n",
        "y_predict3"
      ],
      "metadata": {
        "id": "4xpxU3lM3Qwd"
      },
      "execution_count": null,
      "outputs": []
    },
    {
      "cell_type": "code",
      "source": [
        "y_test.values"
      ],
      "metadata": {
        "id": "geOLbNVV3S2g"
      },
      "execution_count": null,
      "outputs": []
    },
    {
      "cell_type": "code",
      "source": [
        "print('train accuracy:',model3.score(x_train,y_train))\n",
        "print('test accuracy:',model3.score(x_test,y_test))"
      ],
      "metadata": {
        "id": "zXEd4jrJ3TwT"
      },
      "execution_count": null,
      "outputs": []
    },
    {
      "cell_type": "markdown",
      "source": [
        "4. Gradient boosting Classifier"
      ],
      "metadata": {
        "id": "21N5irRr32y6"
      }
    },
    {
      "cell_type": "code",
      "source": [
        "model4=GradientBoostingClassifier(learning_rate=0.6,max_depth=3,n_estimators=110)\n",
        "model4.fit(x_train,y_train)"
      ],
      "metadata": {
        "id": "KYzNnaon4AVV"
      },
      "execution_count": null,
      "outputs": []
    },
    {
      "cell_type": "code",
      "source": [
        "y_predict4=model4.predict(x_test)\n",
        "y_predict4"
      ],
      "metadata": {
        "id": "QlUCtQU_4CVl"
      },
      "execution_count": null,
      "outputs": []
    },
    {
      "cell_type": "code",
      "source": [
        "y_test.values"
      ],
      "metadata": {
        "id": "BpKEfVkj4EdG"
      },
      "execution_count": null,
      "outputs": []
    },
    {
      "cell_type": "code",
      "source": [
        "print('train accuracy:',model4.score(x_train,y_train))\n",
        "print('test accuracy:',model4.score(x_test,y_test))"
      ],
      "metadata": {
        "id": "2bxU2v6s4FRk"
      },
      "execution_count": null,
      "outputs": []
    },
    {
      "cell_type": "code",
      "source": [
        "class_report4=classification_report(y_test,y_predict4)\n",
        "print(class_report4)"
      ],
      "metadata": {
        "id": "ElVMVDXG4Iuv"
      },
      "execution_count": null,
      "outputs": []
    },
    {
      "cell_type": "code",
      "source": [
        "df.columns"
      ],
      "metadata": {
        "id": "szYLf91oHlp5"
      },
      "execution_count": null,
      "outputs": []
    }
  ]
}